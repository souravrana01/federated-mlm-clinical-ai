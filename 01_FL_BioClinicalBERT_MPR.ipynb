# MPR Colab Notebook

This notebook sets up BioClinicalBERT + Flower Federated Learning.